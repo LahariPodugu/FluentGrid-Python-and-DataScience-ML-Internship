{
 "cells": [
  {
   "cell_type": "code",
   "execution_count": null,
   "id": "c35a1a71-f479-42dc-b522-b0676802d0bb",
   "metadata": {},
   "outputs": [],
   "source": [
    "Windows application- Create Windows Application using Library tkinter"
   ]
  },
  {
   "cell_type": "code",
   "execution_count": null,
   "id": "a7051fa4-17eb-4c0c-98d5-2f337b17adc4",
   "metadata": {},
   "outputs": [],
   "source": [
    "Create a windows application with textbox Button and label.Once Enter number in textbox and then click on button then is that number \n",
    "Armstrong Number/Not will display on label"
   ]
  },
  {
   "cell_type": "code",
   "execution_count": 1,
   "id": "09c013f5-11dd-4880-aca8-e0614468d716",
   "metadata": {},
   "outputs": [
    {
     "data": {
      "application/vnd.jupyter.widget-view+json": {
       "model_id": "6a39a6faa13d4fad90137d41f3d16eb4",
       "version_major": 2,
       "version_minor": 0
      },
      "text/plain": [
       "Text(value='', placeholder='Enter a number')"
      ]
     },
     "metadata": {},
     "output_type": "display_data"
    },
    {
     "data": {
      "application/vnd.jupyter.widget-view+json": {
       "model_id": "8babf84b780a4dd29bd39bd37a9ac875",
       "version_major": 2,
       "version_minor": 0
      },
      "text/plain": [
       "Button(description='Check Armstrong', style=ButtonStyle())"
      ]
     },
     "metadata": {},
     "output_type": "display_data"
    },
    {
     "data": {
      "application/vnd.jupyter.widget-view+json": {
       "model_id": "afb3271842344406bfc190d20ddf3d4f",
       "version_major": 2,
       "version_minor": 0
      },
      "text/plain": [
       "Output()"
      ]
     },
     "metadata": {},
     "output_type": "display_data"
    }
   ],
   "source": [
    "import ipywidgets as widgets\n",
    "from IPython.display import display\n",
    "\n",
    "entry = widgets.Text(placeholder=\"Enter a number\")\n",
    "button = widgets.Button(description=\"Check Armstrong\")\n",
    "output = widgets.Output()\n",
    "\n",
    "def check_armstrong(b):\n",
    "    with output:\n",
    "        output.clear_output()\n",
    "        num = entry.value\n",
    "        if num.isdigit():\n",
    "            n = int(num)\n",
    "            armstrong = sum(int(digit) ** len(num) for digit in num) == n\n",
    "            print(f\"{num} is an Armstrong Number\" if armstrong else f\"{num} is NOT an Armstrong Number\")\n",
    "        else:\n",
    "            print(\"Invalid input! Please enter a valid number.\")\n",
    "\n",
    "button.on_click(check_armstrong)\n",
    "\n",
    "display(entry, button, output)"
   ]
  },
  {
   "cell_type": "code",
   "execution_count": null,
   "id": "498f9036-8d3a-41a9-a2e1-2113d515d8e5",
   "metadata": {},
   "outputs": [],
   "source": [
    "(or)"
   ]
  },
  {
   "cell_type": "code",
   "execution_count": 2,
   "id": "ad084583-f99f-44a1-b155-72dfb5c71f31",
   "metadata": {},
   "outputs": [],
   "source": [
    "import tkinter as tk\n",
    "from tkinter import messagebox\n",
    "def is_armstrong(number):\n",
    "    try:\n",
    "        num = int(number)\n",
    "        sum_of_digits = sum(int(digit) ** len(number) for digit in number)\n",
    "        return num == sum_of_digits\n",
    "    except ValueError:\n",
    "        return False\n",
    "\n",
    "def check_armstrong():\n",
    "    number = entry.get()\n",
    "    if number.isdigit():\n",
    "        if is_armstrong(number):\n",
    "            result_label.config(text=f\"{number} is an Armstrong Number\")\n",
    "        else:\n",
    "            result_label.config(text=f\"{number} is NOT an Armstrong Number\")\n",
    "    else:\n",
    "        messagebox.showerror(\"Invalid Input\", \"Please enter a valid number\")\n",
    "\n",
    "# Create main application window\n",
    "root = tk.Tk()\n",
    "root.title(\"Armstrong Number Checker\")\n",
    "root.geometry(\"400x200\")\n",
    "\n",
    "# Create input field\n",
    "entry = tk.Entry(root, width=20)\n",
    "entry.pack(pady=20)\n",
    "\n",
    "# Create button\n",
    "check_button = tk.Button(root, text=\"Check\", command=check_armstrong)\n",
    "check_button.pack()\n",
    "\n",
    "# Create label for result\n",
    "result_label = tk.Label(root, text=\"\", font=(\"Arial\", 12))\n",
    "result_label.pack(pady=20)\n",
    "\n",
    "# Run the application\n",
    "root.mainloop()"
   ]
  }
 ],
 "metadata": {
  "kernelspec": {
   "display_name": "Python 3 (ipykernel)",
   "language": "python",
   "name": "python3"
  },
  "language_info": {
   "codemirror_mode": {
    "name": "ipython",
    "version": 3
   },
   "file_extension": ".py",
   "mimetype": "text/x-python",
   "name": "python",
   "nbconvert_exporter": "python",
   "pygments_lexer": "ipython3",
   "version": "3.12.5"
  }
 },
 "nbformat": 4,
 "nbformat_minor": 5
}
