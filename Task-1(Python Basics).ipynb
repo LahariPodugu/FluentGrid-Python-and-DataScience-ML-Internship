{
 "cells": [
  {
   "cell_type": "code",
   "execution_count": null,
   "id": "8fcacf66-7914-4a81-9973-4d1eed44cee4",
   "metadata": {},
   "outputs": [],
   "source": [
    "#PYTHON BASICS"
   ]
  },
  {
   "cell_type": "code",
   "execution_count": null,
   "id": "ac10ac55-aa11-4c2f-bba2-48712c8caf33",
   "metadata": {},
   "outputs": [],
   "source": [
    "String palindrome"
   ]
  },
  {
   "cell_type": "code",
   "execution_count": 2,
   "id": "4e53ba2b-d7df-48c1-b7b4-b367768d3fa1",
   "metadata": {},
   "outputs": [
    {
     "name": "stdin",
     "output_type": "stream",
     "text": [
      "Enter a string: ABCD\n"
     ]
    },
    {
     "name": "stdout",
     "output_type": "stream",
     "text": [
      "No,The given string is not a palindrome\n"
     ]
    }
   ],
   "source": [
    "#Using if-else to create string palindrome\n",
    "st=input(\"Enter a string:\")\n",
    "s=st[::-1]\n",
    "if st==s:\n",
    "  print(\"yes,The given string is palindrome\")\n",
    "else:\n",
    "  print(\"No,The given string is not a palindrome\")"
   ]
  },
  {
   "cell_type": "code",
   "execution_count": null,
   "id": "ab966a64-0a47-4d81-b38d-e6568b5d6dd1",
   "metadata": {},
   "outputs": [],
   "source": [
    "(or)"
   ]
  },
  {
   "cell_type": "code",
   "execution_count": 7,
   "id": "49285ba1-7934-4817-8a90-95f1b994cf9c",
   "metadata": {},
   "outputs": [
    {
     "name": "stdin",
     "output_type": "stream",
     "text": [
      "Enter a string:  radar\n"
     ]
    },
    {
     "name": "stdout",
     "output_type": "stream",
     "text": [
      "The given string is Palindrome\n"
     ]
    }
   ],
   "source": [
    "#Using function to create string palindrome\n",
    "def is_palindrome(s):\n",
    "    return s == s[::-1]\n",
    "\n",
    "string = input(\"Enter a string: \")\n",
    "if is_palindrome(string):\n",
    "  print(\"The given string is Palindrome\")\n",
    "else:\n",
    "  print(\"The given string is not a Palindrome\")"
   ]
  },
  {
   "cell_type": "code",
   "execution_count": null,
   "id": "ccfaf33d-58e7-423b-82de-d8a987bf9c6c",
   "metadata": {},
   "outputs": [],
   "source": [
    "(or)"
   ]
  },
  {
   "cell_type": "code",
   "execution_count": 5,
   "id": "034264b9-b56c-4a47-9d14-aa9c0bca986f",
   "metadata": {},
   "outputs": [
    {
     "name": "stdin",
     "output_type": "stream",
     "text": [
      "Enter a string:  abcd\n"
     ]
    },
    {
     "name": "stdout",
     "output_type": "stream",
     "text": [
      "\"abcd\" is not a palindrome.\n"
     ]
    }
   ],
   "source": [
    "def is_palindrome(s):\n",
    "    \"\"\"Function to check if a string is a palindrome.\"\"\"\n",
    "    s = s.lower().replace(\" \", \"\")  # Convert to lowercase and remove spaces\n",
    "    return s == s[::-1]  # Compare the string with its reverse\n",
    "\n",
    "string = input(\"Enter a string: \")\n",
    "\n",
    "if is_palindrome(string):\n",
    "    print(f'\"{string}\" is a palindrome.')\n",
    "else:\n",
    "    print(f'\"{string}\" is not a palindrome.')"
   ]
  },
  {
   "cell_type": "code",
   "execution_count": null,
   "id": "49aa2dbc-e0fb-4268-ab6d-9814ac8bedbd",
   "metadata": {},
   "outputs": [],
   "source": []
  },
  {
   "cell_type": "code",
   "execution_count": null,
   "id": "e89a2e7e-00d1-4bd5-9b87-4592edf2f117",
   "metadata": {},
   "outputs": [],
   "source": [
    "Number palindrome"
   ]
  },
  {
   "cell_type": "code",
   "execution_count": 9,
   "id": "18657a3c-d83a-4ffb-995c-f244897c3c19",
   "metadata": {},
   "outputs": [
    {
     "name": "stdin",
     "output_type": "stream",
     "text": [
      "Enter a string: 123\n"
     ]
    },
    {
     "name": "stdout",
     "output_type": "stream",
     "text": [
      "No,The given string is not a palindrome\n"
     ]
    }
   ],
   "source": [
    "#Using if-else to create number palindrome\n",
    "num=input(\"Enter a string:\")\n",
    "n=num[::-1]\n",
    "if num==n:\n",
    "  print(\"yes,The given string is palindrome\")\n",
    "else:\n",
    "  print(\"No,The given string is not a palindrome\")"
   ]
  },
  {
   "cell_type": "code",
   "execution_count": null,
   "id": "8671aee7-97c7-47e7-9d72-cae3f875492e",
   "metadata": {},
   "outputs": [],
   "source": [
    "(or)"
   ]
  },
  {
   "cell_type": "code",
   "execution_count": 11,
   "id": "a02c1bea-9617-40fd-ae1d-e3ebc27aaf6c",
   "metadata": {},
   "outputs": [
    {
     "name": "stdin",
     "output_type": "stream",
     "text": [
      "Enter a number:  121\n"
     ]
    },
    {
     "name": "stdout",
     "output_type": "stream",
     "text": [
      "121 is a palindrome.\n"
     ]
    }
   ],
   "source": [
    "#Using function to create number palindrome\n",
    "def is_palindrome(num):\n",
    "    return str(num) == str(num)[::-1]  # Ensure str is not redefined elsewhere\n",
    "\n",
    "num = int(input(\"Enter a number: \"))\n",
    "\n",
    "if is_palindrome(num):\n",
    "    print(f\"{num} is a palindrome.\")\n",
    "else:\n",
    "    print(f\"{num} is not a palindrome.\")"
   ]
  },
  {
   "cell_type": "code",
   "execution_count": null,
   "id": "e2548961-38e8-4127-9761-f08df9220214",
   "metadata": {},
   "outputs": [],
   "source": [
    "(or)"
   ]
  },
  {
   "cell_type": "code",
   "execution_count": 13,
   "id": "fe844775-2541-43a5-9e9a-fc1ba810f1ff",
   "metadata": {},
   "outputs": [
    {
     "name": "stdin",
     "output_type": "stream",
     "text": [
      "Enter a number:  123\n"
     ]
    },
    {
     "name": "stdout",
     "output_type": "stream",
     "text": [
      "123 is not a palindrome.\n"
     ]
    }
   ],
   "source": [
    "def is_palindrome(num):\n",
    "    \"\"\"Function to check if a number is a palindrome.\"\"\"\n",
    "    original_num = num\n",
    "    reversed_num = 0\n",
    "\n",
    "    while num > 0:\n",
    "        digit = num % 10\n",
    "        reversed_num = (reversed_num * 10) + digit\n",
    "        num //= 10\n",
    "\n",
    "    return original_num == reversed_num\n",
    "\n",
    "# Take user input\n",
    "try:\n",
    "    num = int(input(\"Enter a number: \"))\n",
    "    \n",
    "    if is_palindrome(num):\n",
    "        print(f\"{num} is a palindrome.\")\n",
    "    else:\n",
    "        print(f\"{num} is not a palindrome.\")\n",
    "\n",
    "except ValueError:\n",
    "    print(\"Please enter a valid integer.\")"
   ]
  },
  {
   "cell_type": "code",
   "execution_count": null,
   "id": "3f7698c7-5720-4178-8f33-c26aa5d688d3",
   "metadata": {},
   "outputs": [],
   "source": []
  },
  {
   "cell_type": "code",
   "execution_count": null,
   "id": "88884884-82db-408e-9b80-20f383045626",
   "metadata": {},
   "outputs": [],
   "source": [
    "Check given number is Armstrong Number or not"
   ]
  },
  {
   "cell_type": "code",
   "execution_count": 15,
   "id": "d664f36b-cbde-46ee-a135-25f888966051",
   "metadata": {},
   "outputs": [
    {
     "name": "stdin",
     "output_type": "stream",
     "text": [
      "Enter a number:  1536\n"
     ]
    },
    {
     "name": "stdout",
     "output_type": "stream",
     "text": [
      "The given number is not an Armstrong Number\n"
     ]
    }
   ],
   "source": [
    "def is_armstrong(n):\n",
    "    digits = [int(d) for d in str(n)]\n",
    "    power = len(digits)\n",
    "    return sum(d**power for d in digits) == n\n",
    "\n",
    "num = int(input(\"Enter a number: \"))\n",
    "print(\"The given number is Armstrong Number\" if is_armstrong(num) else \"The given number is not an Armstrong Number\")"
   ]
  }
 ],
 "metadata": {
  "kernelspec": {
   "display_name": "Python 3 (ipykernel)",
   "language": "python",
   "name": "python3"
  },
  "language_info": {
   "codemirror_mode": {
    "name": "ipython",
    "version": 3
   },
   "file_extension": ".py",
   "mimetype": "text/x-python",
   "name": "python",
   "nbconvert_exporter": "python",
   "pygments_lexer": "ipython3",
   "version": "3.12.5"
  }
 },
 "nbformat": 4,
 "nbformat_minor": 5
}
