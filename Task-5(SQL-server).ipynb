{
 "cells": [
  {
   "cell_type": "code",
   "execution_count": null,
   "id": "2fedc631-bdf8-4165-915d-4e131216853d",
   "metadata": {},
   "outputs": [],
   "source": [
    "Using Sqlserver database Learn queries like Select, Insert, Update,Delete"
   ]
  },
  {
   "cell_type": "code",
   "execution_count": null,
   "id": "e7fb48ab-3424-476f-84ed-c0e90351b4d1",
   "metadata": {},
   "outputs": [],
   "source": [
    "#Installation of package"
   ]
  },
  {
   "cell_type": "code",
   "execution_count": 15,
   "id": "a2b114e2-8e5a-46dd-8fbe-aadb816b4880",
   "metadata": {},
   "outputs": [
    {
     "name": "stdout",
     "output_type": "stream",
     "text": [
      "Requirement already satisfied: pyodbc in c:\\users\\lahar\\appdata\\local\\programs\\python\\python312\\lib\\site-packages (5.2.0)\n",
      "Note: you may need to restart the kernel to use updated packages.\n"
     ]
    }
   ],
   "source": [
    "pip install pyodbc "
   ]
  },
  {
   "cell_type": "code",
   "execution_count": null,
   "id": "44725d24-f552-426c-b666-2bda6e49910e",
   "metadata": {},
   "outputs": [],
   "source": [
    "#Get data from DB and insert data into DB"
   ]
  },
  {
   "cell_type": "code",
   "execution_count": 16,
   "id": "7e881b19-5c6e-43f1-82c5-2ec6a2d99d01",
   "metadata": {},
   "outputs": [
    {
     "name": "stdout",
     "output_type": "stream",
     "text": [
      "(1023, 'Alice Johnson', 32, 'HR')\n",
      "(1024, 'Bob Smith', 28, 'IT')\n",
      "(1030, 'David Miller', 29, 'Marketing')\n",
      "(1032, 'Elon', 22, 'Analyst')\n",
      "(1034, 'Roja', 48, 'Admin')\n"
     ]
    }
   ],
   "source": [
    "import pyodbc\n",
    "\n",
    "# Database connection\n",
    "conn = pyodbc.connect('DRIVER={SQL Server};SERVER=Lahari;DATABASE=SampleDB;Trusted_Connection=yes;')\n",
    "cursor = conn.cursor()\n",
    "\n",
    "# Select Data\n",
    "cursor.execute(\"SELECT * FROM Employees\")\n",
    "for row in cursor.fetchall():\n",
    "    print(row)\n",
    "\n",
    "# Insert Data\n",
    "cursor.execute(\"INSERT INTO Employees (Name, Age, Department) VALUES ('Rao', 60, 'Center Head')\")\n",
    "conn.commit()\n",
    "\n",
    "# Close the connection\n",
    "cursor.close()\n",
    "conn.close()"
   ]
  }
 ],
 "metadata": {
  "kernelspec": {
   "display_name": "Python 3 (ipykernel)",
   "language": "python",
   "name": "python3"
  },
  "language_info": {
   "codemirror_mode": {
    "name": "ipython",
    "version": 3
   },
   "file_extension": ".py",
   "mimetype": "text/x-python",
   "name": "python",
   "nbconvert_exporter": "python",
   "pygments_lexer": "ipython3",
   "version": "3.12.5"
  }
 },
 "nbformat": 4,
 "nbformat_minor": 5
}
