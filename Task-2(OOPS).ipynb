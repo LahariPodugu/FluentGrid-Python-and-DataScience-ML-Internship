{
 "cells": [
  {
   "cell_type": "code",
   "execution_count": null,
   "id": "c823e829-dc48-4983-a9a0-0b80b160b799",
   "metadata": {},
   "outputs": [],
   "source": [
    "#OOPS"
   ]
  },
  {
   "cell_type": "code",
   "execution_count": null,
   "id": "1885dc55-e3b2-4d31-9794-564990d30b2b",
   "metadata": {},
   "outputs": [],
   "source": [
    "Method overloading"
   ]
  },
  {
   "cell_type": "code",
   "execution_count": 1,
   "id": "4d263110-1e2f-4e09-9cf6-15faa7c4fefa",
   "metadata": {},
   "outputs": [
    {
     "name": "stdout",
     "output_type": "stream",
     "text": [
      "5\n",
      "9\n"
     ]
    }
   ],
   "source": [
    "#Method overloading with a finite number of parameters\n",
    "class OverloadingExample:\n",
    "    def add(self, a, b, c=0):\n",
    "        return a + b + c\n",
    "\n",
    "obj = OverloadingExample()\n",
    "print(obj.add(2, 3))  \n",
    "print(obj.add(2, 3, 4,))"
   ]
  },
  {
   "cell_type": "code",
   "execution_count": null,
   "id": "f2e0f9ec-36aa-46d5-9b2f-0a154090eff8",
   "metadata": {},
   "outputs": [],
   "source": [
    "(or)"
   ]
  },
  {
   "cell_type": "code",
   "execution_count": 2,
   "id": "70bde226-8d58-4fdd-a803-4b1608d8bb95",
   "metadata": {},
   "outputs": [
    {
     "name": "stdout",
     "output_type": "stream",
     "text": [
      "Sum is :  15\n",
      "Sum is :  60\n",
      "Sum is :  20.6\n"
     ]
    }
   ],
   "source": [
    "#Method overloading with a infinite number of parameters\n",
    "class  Test:\n",
    "     def  sum(self,*n):\n",
    "         sum=0\n",
    "         for i in n:\n",
    "            sum+=i\n",
    "         print(\"Sum is : \",sum)\n",
    "t = Test( )\n",
    "t.sum(5,10)\n",
    "t.sum(10,20,30)\n",
    "t.sum(5.2,3.4,5,7)"
   ]
  },
  {
   "cell_type": "code",
   "execution_count": null,
   "id": "9e5989ed-4d2a-4f98-8998-45811f299cd2",
   "metadata": {},
   "outputs": [],
   "source": []
  },
  {
   "cell_type": "code",
   "execution_count": null,
   "id": "da90df89-4213-488d-aa78-832166d8ee6f",
   "metadata": {},
   "outputs": [],
   "source": [
    "Method overriding"
   ]
  },
  {
   "cell_type": "code",
   "execution_count": 3,
   "id": "dbe9b199-da45-4b5c-bb0b-bc96d07fd078",
   "metadata": {},
   "outputs": [
    {
     "name": "stdout",
     "output_type": "stream",
     "text": [
      " Draw Square \n",
      " Draw Circle \n",
      " Draw Hexagon \n"
     ]
    }
   ],
   "source": [
    "# Polymorphism Method Overriding\n",
    "class Shape:\n",
    "  def draw(self):\n",
    "    print(\" Draw Shape \")\n",
    "class Square(Shape):\n",
    "  def draw(self):\n",
    "    print(\" Draw Square \")\n",
    "class Circle(Shape):\n",
    "  def draw(self):\n",
    "    print(\" Draw Circle \")\n",
    "class Hexagon(Shape):\n",
    "  def draw(self):\n",
    "    print(\" Draw Hexagon \")\n",
    "s = Square( )\n",
    "s.draw()\n",
    "c = Circle( )\n",
    "c.draw()\n",
    "h = Hexagon( )\n",
    "h.draw()"
   ]
  },
  {
   "cell_type": "code",
   "execution_count": null,
   "id": "5835021e-7d16-42ad-818b-cd83d247553f",
   "metadata": {},
   "outputs": [],
   "source": [
    "(or)"
   ]
  },
  {
   "cell_type": "code",
   "execution_count": 4,
   "id": "9357b219-a16d-4102-ae19-5a43f6b0628e",
   "metadata": {},
   "outputs": [
    {
     "name": "stdout",
     "output_type": "stream",
     "text": [
      "This is Child class\n"
     ]
    }
   ],
   "source": [
    "class Parent:\n",
    "    def show(self):\n",
    "        print(\"This is Parent class\")\n",
    "\n",
    "class Child(Parent):\n",
    "    def show(self):\n",
    "        print(\"This is Child class\")\n",
    "\n",
    "obj = Child()\n",
    "obj.show()  "
   ]
  }
 ],
 "metadata": {
  "kernelspec": {
   "display_name": "Python 3 (ipykernel)",
   "language": "python",
   "name": "python3"
  },
  "language_info": {
   "codemirror_mode": {
    "name": "ipython",
    "version": 3
   },
   "file_extension": ".py",
   "mimetype": "text/x-python",
   "name": "python",
   "nbconvert_exporter": "python",
   "pygments_lexer": "ipython3",
   "version": "3.12.5"
  }
 },
 "nbformat": 4,
 "nbformat_minor": 5
}
